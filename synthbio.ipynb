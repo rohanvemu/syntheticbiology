{
  "nbformat": 4,
  "nbformat_minor": 0,
  "metadata": {
    "colab": {
      "name": "synthbio.ipynb",
      "provenance": [],
      "collapsed_sections": [],
      "include_colab_link": true
    },
    "kernelspec": {
      "name": "python3",
      "display_name": "Python 3"
    }
  },
  "cells": [
    {
      "cell_type": "markdown",
      "metadata": {
        "id": "view-in-github",
        "colab_type": "text"
      },
      "source": [
        "<a href=\"https://colab.research.google.com/github/rohanvemu/syntheticbiology/blob/main/synthbio.ipynb\" target=\"_parent\"><img src=\"https://colab.research.google.com/assets/colab-badge.svg\" alt=\"Open In Colab\"/></a>"
      ]
    },
    {
      "cell_type": "markdown",
      "metadata": {
        "id": "rzmLLAUFw8e3"
      },
      "source": [
        "#Group GOAT, Synthetic Biology Data\n"
      ]
    },
    {
      "cell_type": "markdown",
      "metadata": {
        "id": "NXA1SqInxHAU"
      },
      "source": [
        "### Importing Libraries"
      ]
    },
    {
      "cell_type": "code",
      "metadata": {
        "id": "RzbP-HtTSImi",
        "colab": {
          "base_uri": "https://localhost:8080/"
        },
        "outputId": "cd32ced2-98c9-4e31-eb55-1efe5b093493"
      },
      "source": [
        "# import required  packages\n",
        "import numpy as np\n",
        "import matplotlib.pyplot as plt\n",
        "import statsmodels.stats\n",
        "import pandas as pd\n",
        "import seaborn as sns\n",
        "import scipy as sio\n",
        "import statistics as st"
      ],
      "execution_count": null,
      "outputs": [
        {
          "output_type": "stream",
          "text": [
            "/usr/local/lib/python3.7/dist-packages/statsmodels/tools/_testing.py:19: FutureWarning: pandas.util.testing is deprecated. Use the functions in the public API at pandas.testing instead.\n",
            "  import pandas.util.testing as tm\n"
          ],
          "name": "stderr"
        }
      ]
    },
    {
      "cell_type": "markdown",
      "metadata": {
        "id": "CBypqMFExVIw"
      },
      "source": [
        "### Setting Up File Import"
      ]
    },
    {
      "cell_type": "code",
      "metadata": {
        "colab": {
          "base_uri": "https://localhost:8080/"
        },
        "id": "fkUYuukYTm_4",
        "outputId": "dc2fc6bb-d4d7-4c98-bf34-3d9c5fb447ec"
      },
      "source": [
        "#mounting the google drive folder\n",
        "#do not change PLEASE\n",
        "from google.colab import drive\n",
        "drive.mount('/content/gdrive')"
      ],
      "execution_count": null,
      "outputs": [
        {
          "output_type": "stream",
          "text": [
            "Mounted at /content/gdrive\n"
          ],
          "name": "stdout"
        }
      ]
    },
    {
      "cell_type": "code",
      "metadata": {
        "id": "bDVrMB-cT99D"
      },
      "source": [
        "#load spreadsheet of  all the  data \n",
        "path=\"/content/gdrive/Shareddrives/BE310Lab/Synthetic Biology Lab/20210121_Sample_Spec_Data_DO_NOT_USE_FOR_LAB_REPORT-1.xlsx\"\n",
        "OD_data= pd.DataFrame(pd.read_excel(path, sheet_name=0))\n",
        "Fluorescence_data=pd.DataFrame(pd.read_excel(path, sheet_name=1))"
      ],
      "execution_count": null,
      "outputs": []
    },
    {
      "cell_type": "markdown",
      "metadata": {
        "id": "nGr6mg2UxZ-f"
      },
      "source": [
        "### Calculating Mean OD/Fluorescence for Each Strain from Class Data"
      ]
    },
    {
      "cell_type": "code",
      "metadata": {
        "id": "tqMQpHXIVSU6"
      },
      "source": [
        "start_s1 = 2 #find starting index corresponding to strain 1\n",
        "end_s1 = 5\n",
        "start_s2 = end_s1 #find starting index corresponding to strain 2\n",
        "\n",
        "mean_s1_OD = []\n",
        "mean_s2_OD = []\n",
        "\n",
        "for col in OD_data.columns[1::]: \n",
        "  val1 = np.mean(OD_data[col][start_s1:end_s1])\n",
        "  val2 = np.mean(OD_data[col][start_s2::])\n",
        "  mean_s1_OD.append(val1)\n",
        "  mean_s2_OD.append(val2)"
      ],
      "execution_count": null,
      "outputs": []
    },
    {
      "cell_type": "code",
      "metadata": {
        "id": "VroLLZoBeQOs"
      },
      "source": [
        "start_s1 = 2\n",
        "end_s1 = 5\n",
        "start_s2 = end_s1\n",
        "\n",
        "mean_s1_fluoro = []\n",
        "mean_s2_fluoro = []\n",
        "\n",
        "for col in Fluorescence_data.columns[1::]: \n",
        "  val1 = np.mean(Fluorescence_data[col][start_s1:end_s1])\n",
        "  val2 = np.mean(Fluorescence_data[col][start_s2::])\n",
        "  mean_s1_fluoro.append(val1)\n",
        "  mean_s2_fluoro.append(val2)"
      ],
      "execution_count": null,
      "outputs": []
    },
    {
      "cell_type": "markdown",
      "metadata": {
        "id": "J9JiJpJxxiYG"
      },
      "source": [
        "### Normalizing Fluorescence to Cell Count and Baseline per Strain"
      ]
    },
    {
      "cell_type": "code",
      "metadata": {
        "id": "-GAzKC3czTwD"
      },
      "source": [
        "mean_s1_fluoro = np.array(mean_s1_fluoro)\n",
        "mean_s2_fluoro = np.array(mean_s2_fluoro)\n",
        "mean_s1_OD = np.array(mean_s1_OD)\n",
        "mean_s2_OD = np.array(mean_s2_OD)"
      ],
      "execution_count": null,
      "outputs": []
    },
    {
      "cell_type": "code",
      "metadata": {
        "id": "Cv_YOAPkx9C9"
      },
      "source": [
        "fluoro_1 = mean_s1_fluoro - mean_s1_fluoro[-1] #normalization to baseline \n",
        "relative_1 = fluoro_1 / mean_s1_OD #normalization to OD\n",
        "max_fluoro_1 = max(relative_1) \n",
        "normalize_1 = relative_1 / max_fluoro_1 #normalization to local max\n",
        "normalize_1 = np.flip(normalize_1[:-1]) #flip to orient array in increasing AHL\n",
        "fluoro_2 = mean_s2_fluoro - mean_s2_fluoro[-1]\n",
        "relative_2 = fluoro_2 / mean_s2_OD\n",
        "max_fluoro_2 = max(relative_2)\n",
        "normalize_2 = relative_2 / max_fluoro_2\n",
        "normalize_2 = np.flip(normalize_2[:-1])"
      ],
      "execution_count": null,
      "outputs": []
    },
    {
      "cell_type": "markdown",
      "metadata": {
        "id": "MfLD-mM_xsBW"
      },
      "source": [
        "### Exporting Data for MATLAB Model Fitting"
      ]
    },
    {
      "cell_type": "code",
      "metadata": {
        "id": "vEC9g-M2aXbd"
      },
      "source": [
        "AHL_conc = np.array([1e-10, 1e-9, 1e-8, 1e-7, 1e-6, 1e-5, 1e-4, 1e-3, 1e-2])*(10**6) #AHL conc in increasing order\n",
        "compiled = pd.DataFrame(np.array([AHL_conc, normalize_1, normalize_2])) #compile into a DataFrame \n",
        "compiled = compiled.T #transpose data frame so that columns correspond to AHL, S1, and S2\n",
        "compiled.columns = ['AHL Concentration', 'S1', 'S2']\n",
        "compiled.to_excel(\"/content/gdrive/Shareddrives/BE310Lab/Synthetic Biology Lab/straindata.xlsx\") #export xlsx into local drive for download"
      ],
      "execution_count": null,
      "outputs": []
    },
    {
      "cell_type": "markdown",
      "metadata": {
        "id": "uDsTRtA61zV1"
      },
      "source": [
        "### QC Check of Data Analysis by Plotting Data"
      ]
    },
    {
      "cell_type": "code",
      "metadata": {
        "colab": {
          "base_uri": "https://localhost:8080/",
          "height": 341
        },
        "id": "uiic8VRG1xVe",
        "outputId": "10137ca5-102f-4b21-a200-5984124f9f8d"
      },
      "source": [
        "plt.semilogx(AHL_conc, normalize_1, marker='o', linestyle='none', label = 'Strain 1')\n",
        "plt.semilogx(AHL_conc, normalize_2, marker='o', linestyle='none', label = 'Strain 2')\n",
        "plt.xlabel(\"AHL Concentration [uM]\", fontsize=14)\n",
        "plt.ylabel(\"Normalized Fluorescence\", fontsize=14)\n",
        "plt.legend()\n",
        "plt.title(\"GFP Expression with Increasing AHL Concentration\", fontsize=14)\n",
        "plt.xticks(fontsize = 12)\n",
        "plt.yticks(fontsize = 12)"
      ],
      "execution_count": null,
      "outputs": [
        {
          "output_type": "execute_result",
          "data": {
            "text/plain": [
              "(array([-0.2,  0. ,  0.2,  0.4,  0.6,  0.8,  1. ,  1.2]),\n",
              " <a list of 8 Text major ticklabel objects>)"
            ]
          },
          "metadata": {
            "tags": []
          },
          "execution_count": 9
        },
        {
          "output_type": "display_data",
          "data": {
            "image/png": "[encoded data removed]",
            "text/plain": [
              "<Figure size 432x288 with 1 Axes>"
            ]
          },
          "metadata": {
            "tags": [],
            "needs_background": "light"
          }
        }
      ]
    }
  ]
}